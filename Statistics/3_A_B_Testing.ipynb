{
  "nbformat": 4,
  "nbformat_minor": 0,
  "metadata": {
    "colab": {
      "provenance": [],
      "authorship_tag": "ABX9TyPVKH5mdWCpgirjaAAKXyIC",
      "include_colab_link": true
    },
    "kernelspec": {
      "name": "python3",
      "display_name": "Python 3"
    },
    "language_info": {
      "name": "python"
    }
  },
  "cells": [
    {
      "cell_type": "markdown",
      "metadata": {
        "id": "view-in-github",
        "colab_type": "text"
      },
      "source": [
        "<a href=\"https://colab.research.google.com/github/edmarRod/Courses/blob/main/Statistics/3_A_B_Testing.ipynb\" target=\"_parent\"><img src=\"https://colab.research.google.com/assets/colab-badge.svg\" alt=\"Open In Colab\"/></a>"
      ]
    },
    {
      "cell_type": "markdown",
      "source": [
        "# A/B testing definitions\n",
        "A/B testing is a method for detecting whether a change produces an effect via statistic methods.\n",
        "\n",
        "## Key terms in A/B testing:\n",
        "\n",
        "**Overall Evaluation Criterion (OEC):** A quantitative measure of the experiment's objective. e.g. Increased active days per user or increased model performance.\n",
        "\n",
        "**Parameter/variable**: A controllable experiment variable that is thought to change the OEC or other metrics of interest. e.g. Font color or a model hyperparameter.\n",
        "\n",
        "**Variant:** The different experiences being tested by assigning values to different parameters. Here the variants are A and B, also called the Control and Treatment. The Control is where there is no change to the status quo, while Treatment would be the alternative being tested. e.g. Control would be the current webpage, while Treatment would be the same webpage with a different font color. For modelling, Control would be the current model or a baseline model, while Treatment would be a new proposed model.\n",
        "\n",
        "**Randomization Unit:** The unit to which randomization is applied to map a variant, e.g. a user to a webpage variant, or a set of input features to a model variant."
      ],
      "metadata": {
        "id": "qJ_uKQW5Jnx9"
      }
    },
    {
      "cell_type": "markdown",
      "source": [
        "## Example 1: Is our new model better?\n",
        "\n",
        "OEC: Accuracy\n",
        "\n",
        "Parameter: Model used\n",
        "\n",
        "Variants:\n",
        "  - A: DecisionTree\n",
        "  - B: RandomForest\n",
        "\n",
        "Randomization Unit: Sample/Test Set (although both models are used for the same samples)"
      ],
      "metadata": {
        "id": "SumFGARKJncN"
      }
    },
    {
      "cell_type": "code",
      "source": [
        "signficance_level = 0.05\n",
        "power = 0.8\n",
        "effect_size = 0.2"
      ],
      "metadata": {
        "id": "rdL77__KkWMX"
      },
      "execution_count": null,
      "outputs": []
    },
    {
      "cell_type": "code",
      "source": [
        "from sklearn.datasets import load_iris\n",
        "from sklearn.model_selection import train_test_split\n",
        "from sklearn.tree import DecisionTreeClassifier\n",
        "from sklearn.ensemble import RandomForestClassifier\n",
        "from sklearn.metrics import accuracy_score\n",
        "import numpy as np\n",
        "np.random.seed(55)\n",
        "\n",
        "def bootstrap_acc(y_true: np.array, y_pred: np.array, n_iterations: int = 10) -> list[float]:\n",
        "  \"\"\"Use bootstrap to get accuracy samples.\n",
        "  \"\"\"\n",
        "  accuracy_scores = []\n",
        "  for i in range(n_iterations):\n",
        "    bootstrap_sample = np.random.choice(len(y_true), size=len(y_true), replace=True)\n",
        "    bootstrap_y_true = y_true[bootstrap_sample]\n",
        "    bootstrap_y_pred = y_pred[bootstrap_sample]\n",
        "    accuracy_scores.append(accuracy_score(bootstrap_y_true, bootstrap_y_pred))\n",
        "\n",
        "  return accuracy_scores\n",
        "\n",
        "# load the iris dataset\n",
        "iris_data = load_iris()\n",
        "X = iris_data.data\n",
        "y = iris_data.target\n",
        "\n",
        "# split into train and test\n",
        "X_train, X_test, y_train, y_test = train_test_split(X, y, test_size=0.2)\n",
        "\n",
        "# fit the model\n",
        "model = DecisionTreeClassifier(max_depth=5)\n",
        "model.fit(X_train, y_train)\n",
        "\n",
        "# evaluate the model\n",
        "yhat = model.predict(X_test)\n",
        "# evaluate predictions\n",
        "accs_dt = bootstrap_acc(y_test, yhat)\n",
        "acc_dt = accuracy_score(y_test, yhat)\n",
        "\n",
        "# fit the model\n",
        "model = RandomForestClassifier(max_depth=5)\n",
        "model.fit(X_train, y_train)\n",
        "\n",
        "# evaluate the model\n",
        "yhat = model.predict(X_test)\n",
        "# evaluate predictions\n",
        "accs_rf = bootstrap_acc(y_test, yhat)\n",
        "acc_rf = accuracy_score(y_test, yhat)\n"
      ],
      "metadata": {
        "id": "y1wcKtM2CzfI"
      },
      "execution_count": null,
      "outputs": []
    },
    {
      "cell_type": "code",
      "source": [
        "print(f\"Accuracies\\n A :{acc_dt}\\n B: {acc_rf}\")"
      ],
      "metadata": {
        "colab": {
          "base_uri": "https://localhost:8080/"
        },
        "id": "GsNbTZXFGWB8",
        "outputId": "3fd09284-95c9-413b-d3bf-34fb4d471675"
      },
      "execution_count": null,
      "outputs": [
        {
          "output_type": "stream",
          "name": "stdout",
          "text": [
            "Accuracies\n",
            " A :0.9666666666666667\n",
            " B: 0.9666666666666667\n"
          ]
        }
      ]
    },
    {
      "cell_type": "code",
      "source": [
        "print(f\"Accuracy bootstrap samples\\n A :{accs_dt}\\n B: {accs_rf}\")"
      ],
      "metadata": {
        "colab": {
          "base_uri": "https://localhost:8080/"
        },
        "id": "sV3dZS-wFyLN",
        "outputId": "c2d30e83-579a-4254-dd3a-da79338b3b89"
      },
      "execution_count": null,
      "outputs": [
        {
          "output_type": "stream",
          "name": "stdout",
          "text": [
            "Accuracy bootstrap samples\n",
            " A :[1.0, 1.0, 0.9666666666666667, 0.9666666666666667, 0.9666666666666667, 0.9333333333333333, 1.0, 0.9666666666666667, 0.9666666666666667, 1.0]\n",
            " B: [0.9333333333333333, 0.9666666666666667, 1.0, 1.0, 1.0, 0.9666666666666667, 1.0, 0.9666666666666667, 0.9, 0.9666666666666667]\n"
          ]
        }
      ]
    },
    {
      "cell_type": "code",
      "source": [
        "from scipy.stats import ttest_ind\n",
        "from statsmodels.stats.power import TTestIndPower\n",
        "\n",
        "ttest = ttest_ind(a=accs_dt, b=accs_rf, equal_var=False)\n",
        "analysis = TTestIndPower()\n",
        "result = analysis.solve_power(effect_size, nobs1=len(accs_dt), ratio=1.0, alpha=signficance_level)\n",
        "print(f\" TTest Results: {ttest}\")\n",
        "print(f\" TTest Power: {result}\")"
      ],
      "metadata": {
        "colab": {
          "base_uri": "https://localhost:8080/"
        },
        "id": "yjkzKSIrG5lM",
        "outputId": "6dd05a1f-6e20-46f0-e7b9-7a41151eb1cb"
      },
      "execution_count": null,
      "outputs": [
        {
          "output_type": "stream",
          "name": "stdout",
          "text": [
            " TTest Results: TtestResult(statistic=0.526234811584221, pvalue=0.6060153727438121, df=15.840449906269525)\n",
            " TTest Power: 0.07082134517132738\n"
          ]
        }
      ]
    },
    {
      "cell_type": "markdown",
      "source": [
        "# Example 2: Production Line Speed Increase\n",
        "\n",
        "In this example we have a ficticious production line which works for 6-8 hours then takes a maintenance break for 2-4 hours, the also works every day. This production line has various equipments which work in sequence at different speeds. Currently the speed of the line is set manually and adjusted by the operators. The goal is to introduce a new model which controls the speed of the line so that the total output of the line is maximized.\n",
        "\n",
        "Additionally, we know we only have a maximum of 2 weeks for testing and based on previously collected data we know that the average output for a working period at manual speed is 1000, with standard deviation of 100.\n",
        "\n",
        "After talks with leadership and cost analysis for the implementation of the solution, we know that any increase below 100 units would not be feasible for implementation.\n",
        "\n",
        "How can we organize this test, and what would be our metrics?\n",
        "\n",
        "OEC: Production Line Output\n",
        "\n",
        "Parameter: Usage of model vs No Model for speed control\n",
        "\n",
        "Variants:\n",
        "  - A: Manually decide the speed\n",
        "  - B: Speed being controlled by a Model\n",
        "\n",
        "Randomization Unit: Production Line Work Unit (In this case we can force alternation between A/B instead of randomizing, so we can have a 50/50 split)\n",
        "\n",
        "For the effect size we can use Cohen's d:\n",
        "\\begin{align}\n",
        "  d = \\frac{\\bar{x}_1 - \\bar{x}_2}{s}\n",
        "\\end{align}\n",
        "where $s$ will be the known standard deviation, $\\bar{x}_1$ will be the minimum output to be able to implement the solution and $\\bar{x}_2$ will be the average manual output."
      ],
      "metadata": {
        "id": "wgcqingbh2DB"
      }
    },
    {
      "cell_type": "code",
      "source": [
        "import numpy as np\n",
        "from scipy.stats import ttest_ind\n",
        "from scipy import stats\n",
        "from statsmodels.stats.power import TTestIndPower\n",
        "import seaborn as sns\n",
        "import matplotlib.pyplot as plt\n",
        "np.random.seed(42)\n",
        "\n",
        "manual_output = 1000\n",
        "manual_std = 100\n",
        "true_model_output = 1100\n",
        "min_model_output_for_effect = 1100\n",
        "num_weeks = 2\n",
        "\n",
        "significance_level = 0.05\n",
        "cohens_d = (min_model_output_for_effect - manual_output) / manual_std\n",
        "\n",
        "\n",
        "sample_size = (num_weeks*7*24/(7+3))/2# Number of hours worked for each week divided by (7 avg hours per work + 3 avg hours for maintenance), then divided by 2 since there will be a 50/50 split\n",
        "\n",
        "analysis = TTestIndPower()\n",
        "result = analysis.solve_power(effect_size=cohens_d, nobs1=sample_size, ratio=1.0, alpha=significance_level)\n",
        "print(f\"TTest Power: {result}\")"
      ],
      "metadata": {
        "colab": {
          "base_uri": "https://localhost:8080/"
        },
        "id": "-oKbeazGlWaj",
        "outputId": "3b84c98c-ad83-4f4e-e63b-03b1bb79897f"
      },
      "execution_count": null,
      "outputs": [
        {
          "output_type": "stream",
          "name": "stdout",
          "text": [
            "TTest Power: 0.8021262230954551\n"
          ]
        }
      ]
    },
    {
      "cell_type": "code",
      "source": [
        "manual_samples = np.random.normal(loc=manual_output, scale=manual_std, size=int(sample_size))\n",
        "model_samples = np.random.normal(loc=true_model_output, scale=manual_std, size=int(sample_size))\n",
        "\n",
        "sns.kdeplot(manual_samples, label=\"Manual\")\n",
        "sns.kdeplot(model_samples, label=\"Model\")\n",
        "plt.legend()\n",
        "plt.title(\"Distribution of Samples\")\n",
        "plt.show()\n",
        "\n",
        "ttest = ttest_ind(a=manual_samples, b=model_samples, equal_var=True)\n",
        "analysis = TTestIndPower()\n",
        "result = analysis.solve_power(cohens_d, nobs1=sample_size, ratio=1.0, alpha=significance_level)\n",
        "print(f\"TTest Results: {ttest}\")\n",
        "\n",
        "df = ttest.df\n",
        "\n",
        "ll = (model_samples.mean() - manual_samples.mean()) + stats.t.ppf(significance_level/2, df)*np.sqrt((model_samples.std(ddof=1)**2/sample_size) + (manual_samples.std(ddof=1)**2/sample_size))\n",
        "ul = (model_samples.mean() - manual_samples.mean()) - stats.t.ppf(significance_level/2, df)*np.sqrt((model_samples.std(ddof=1)**2/sample_size) + (manual_samples.std(ddof=1)**2/sample_size))\n",
        "\n",
        "print(f\" Average effect: {model_samples.mean()} \\n Confidence Intervals: ({ll}, {ul})\")"
      ],
      "metadata": {
        "colab": {
          "base_uri": "https://localhost:8080/",
          "height": 504
        },
        "id": "FxyI7aywh1R7",
        "outputId": "269774ed-32e8-4f09-e50d-1e5df1f129db"
      },
      "execution_count": null,
      "outputs": [
        {
          "output_type": "display_data",
          "data": {
            "text/plain": [
              "<Figure size 640x480 with 1 Axes>"
            ],
            "image/png": "[encoded data removed]"
          },
          "metadata": {}
        },
        {
          "output_type": "stream",
          "name": "stdout",
          "text": [
            "TTest Results: TtestResult(statistic=-2.299882510415261, pvalue=0.02858888884163611, df=30.0)\n",
            " Average effect: 1075.0826522561833 \n",
            " Confidence Intervals: (10.356233491672498, 144.89731682370584)\n"
          ]
        }
      ]
    }
  ]
}